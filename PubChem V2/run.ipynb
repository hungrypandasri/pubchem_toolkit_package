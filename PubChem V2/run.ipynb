{
 "cells": [
  {
   "cell_type": "markdown",
   "metadata": {},
   "source": [
    "# Project Proposal: PubChem Toolkit\n"
   ]
  },
  {
   "cell_type": "code",
   "execution_count": 2,
   "metadata": {},
   "outputs": [
    {
     "name": "stdout",
     "output_type": "stream",
     "text": [
      "Processing d:\\cmu_sem_2\\creating scientific research software\\pubchem v2\n",
      "  Preparing metadata (setup.py): started\n",
      "  Preparing metadata (setup.py): finished with status 'done'\n",
      "Requirement already satisfied: requests in c:\\users\\sriram\\appdata\\local\\programs\\python\\python311\\lib\\site-packages (from pubchem-toolkit==0.0.2) (2.31.0)\n",
      "Requirement already satisfied: charset-normalizer<4,>=2 in c:\\users\\sriram\\appdata\\local\\programs\\python\\python311\\lib\\site-packages (from requests->pubchem-toolkit==0.0.2) (3.3.2)\n",
      "Requirement already satisfied: idna<4,>=2.5 in c:\\users\\sriram\\appdata\\local\\programs\\python\\python311\\lib\\site-packages (from requests->pubchem-toolkit==0.0.2) (3.6)\n",
      "Requirement already satisfied: urllib3<3,>=1.21.1 in c:\\users\\sriram\\appdata\\local\\programs\\python\\python311\\lib\\site-packages (from requests->pubchem-toolkit==0.0.2) (1.26.18)\n",
      "Requirement already satisfied: certifi>=2017.4.17 in c:\\users\\sriram\\appdata\\local\\programs\\python\\python311\\lib\\site-packages (from requests->pubchem-toolkit==0.0.2) (2023.11.17)\n",
      "Building wheels for collected packages: pubchem-toolkit\n",
      "  Building wheel for pubchem-toolkit (setup.py): started\n",
      "  Building wheel for pubchem-toolkit (setup.py): finished with status 'done'\n",
      "  Created wheel for pubchem-toolkit: filename=pubchem_toolkit-0.0.2-py3-none-any.whl size=1474 sha256=c4eade0417731e85fa64eda9acfc29d59f496fb71b1cf2cd11b67e2b3bc0e078\n",
      "  Stored in directory: C:\\Users\\Sriram\\AppData\\Local\\Temp\\pip-ephem-wheel-cache-kx3nl668\\wheels\\af\\75\\31\\772358da26a50fdcc74f561c5c05c89ab3de1d4ddbdde8aa63\n",
      "Successfully built pubchem-toolkit\n",
      "Installing collected packages: pubchem-toolkit\n",
      "  Attempting uninstall: pubchem-toolkit\n",
      "    Found existing installation: pubchem-toolkit 0.0.2\n",
      "    Uninstalling pubchem-toolkit-0.0.2:\n",
      "      Successfully uninstalled pubchem-toolkit-0.0.2\n",
      "Successfully installed pubchem-toolkit-0.0.2\n"
     ]
    },
    {
     "name": "stderr",
     "output_type": "stream",
     "text": [
      "\n",
      "[notice] A new release of pip is available: 23.2.1 -> 24.0\n",
      "[notice] To update, run: python.exe -m pip install --upgrade pip\n"
     ]
    }
   ],
   "source": [
    "!pip install ."
   ]
  },
  {
   "cell_type": "markdown",
   "metadata": {},
   "source": [
    "## Package structure"
   ]
  },
  {
   "cell_type": "code",
   "execution_count": 3,
   "metadata": {},
   "outputs": [
    {
     "name": "stdout",
     "output_type": "stream",
     "text": [
      "├── 📂 build\n",
      "│   └── 📂 bdist.win-amd64\n",
      "├── 📂 pubchem_toolkit\n",
      "│   ├── 📄 compound_search.py\n",
      "│   ├── 📄 __innit__.py\n",
      "│   └── 📂 __pycache__\n",
      "│       ├── 📄 auto_complete.cpython-311.pyc\n",
      "│       ├── 📄 compound_search.cpython-311.pyc\n",
      "│       └── 📄 utils.cpython-311.pyc\n",
      "├── 📂 pubchem_toolkit.egg-info\n",
      "│   ├── 📄 dependency_links.txt\n",
      "│   ├── 📄 PKG-INFO\n",
      "│   ├── 📄 requires.txt\n",
      "│   ├── 📄 SOURCES.txt\n",
      "│   └── 📄 top_level.txt\n",
      "├── 📄 README.md\n",
      "├── 📄 run.ipynb\n",
      "├── 📄 setup.py\n",
      "├── 📂 tests_pytest\n",
      "│   ├── 📄 test_compound_search.py\n",
      "│   ├── 📄 __innit__.py\n",
      "│   └── 📂 __pycache__\n",
      "│       ├── 📄 tests_autocomplete_search_test.cpython-311-pytest-8.1.1.pyc\n",
      "│       ├── 📄 tests_compound_search_test.cpython-311-pytest-8.1.1.pyc\n",
      "│       ├── 📄 test_autocomplete_search.cpython-311-pytest-8.1.1.pyc\n",
      "│       └── 📄 test_compound_search.cpython-311-pytest-8.1.1.pyc\n",
      "└── 📂 tests_unittest\n",
      "    ├── 📄 tests_compound_search_test.py\n",
      "    └── 📂 __pycache__\n",
      "        ├── 📄 tests_autocomplete_search.cpython-311.pyc\n",
      "        ├── 📄 tests_autocomplete_search_test.cpython-311-pytest-8.1.1.pyc\n",
      "        ├── 📄 tests_autocomplete_search_test.cpython-311.pyc\n",
      "        ├── 📄 tests_compound_search.cpython-311.pyc\n",
      "        ├── 📄 tests_compound_search_test.cpython-311-pytest-8.1.1.pyc\n",
      "        ├── 📄 tests_compound_search_test.cpython-311.pyc\n",
      "        └── 📄 tests_utils.cpython-311.pyc\n",
      "\n",
      "Total directories 📂: 9\n",
      "Total files 📄: 27\n",
      "\n",
      "If you liked it give us a star & follow for more :) ... https://github.com/dragon-devs/custom-tree\n"
     ]
    }
   ],
   "source": [
    "!custom-tree"
   ]
  },
  {
   "cell_type": "markdown",
   "metadata": {},
   "source": [
    "## Code Quality and Testing"
   ]
  },
  {
   "cell_type": "markdown",
   "metadata": {},
   "source": [
    "### Black\n",
    "\n",
    "Black is a Python code formatter that automatically formats Python code according to a set of predefined rules. It ensures that your Python code is formatted consistently and follows the PEP 8 style guide. Black takes Python code as input and outputs formatted code with consistent indentation, line breaks, and spacing.\n",
    "\n",
    "Black aims to provide a simple and opinionated formatting style without any configuration options. It focuses on producing code that is easy to read and understand, while also minimizing unnecessary differences in coding styles between different developers or teams.\n",
    "\n",
    "Using Black can help improve code quality, maintainability, and collaboration by enforcing a consistent coding style across projects. It's widely used in the Python community and is integrated with various development tools and workflows."
   ]
  },
  {
   "cell_type": "code",
   "execution_count": 4,
   "metadata": {},
   "outputs": [
    {
     "name": "stderr",
     "output_type": "stream",
     "text": [
      "All done! ✨ 🍰 ✨\n",
      "7 files left unchanged.\n"
     ]
    }
   ],
   "source": [
    "!black ."
   ]
  },
  {
   "cell_type": "markdown",
   "metadata": {},
   "source": [
    "### Unittest\n",
    "\n",
    "A unittest is a testing framework in Python used to write and execute test cases for your Python code. It is part of the Python Standard Library, which means you don't need to install any additional packages to use it.\n",
    "\n",
    "With `unittest`, you can define test cases by creating subclasses of `unittest.TestCase`. Each test case typically consists of one or more methods that start with the word `test`. These methods are automatically executed when you run your test suite.\n",
    "\n",
    "`unittest` provides various assertion methods to check whether the expected behavior of your code matches the actual behavior. Some common assertion methods include `assertEqual`, `assertTrue`, `assertFalse`, `assertRaises`, etc.\n"
   ]
  },
  {
   "cell_type": "code",
   "execution_count": 5,
   "metadata": {},
   "outputs": [
    {
     "name": "stderr",
     "output_type": "stream",
     "text": [
      "..\n",
      "----------------------------------------------------------------------\n",
      "Ran 2 tests in 3.144s\n",
      "\n",
      "OK\n"
     ]
    }
   ],
   "source": [
    "!python -m unittest discover tests_unittest"
   ]
  },
  {
   "cell_type": "markdown",
   "metadata": {},
   "source": [
    "### Pytest\n",
    "\n",
    "Pytest is a testing framework for Python that simplifies the process of writing and executing test cases. It offers a more concise syntax compared to the built-in `unittest` module and provides powerful features for effective testing.\n",
    "\n",
    "With Pytest, you can write test functions using Python's assert statement, making the test code more readable and intuitive. Test functions don't need to be part of a specific class; they can be standalone functions or methods within a class.\n",
    "\n",
    "Pytest offers various features that enhance the testing experience:\n",
    "\n",
    "1. **Fixture Support**: Pytest provides a fixture mechanism for managing test dependencies and resources. Fixtures help set up preconditions for tests and can be reused across multiple test functions.\n",
    "\n",
    "2. **Parameterization**: Pytest supports test parametrization, allowing you to run the same test with different inputs. This promotes code reuse and reduces the need for duplicate test code.\n",
    "\n",
    "3. **Rich Assertion Library**: Pytest comes with a rich set of built-in assertion methods for making test assertions. These assertions are expressive and cover a wide range of scenarios.\n",
    "\n",
    "4. **Plugins**: Pytest has a vast ecosystem of plugins that extend its functionality. Plugins can be used for features such as code coverage analysis, test reporting, and mocking.\n",
    "\n",
    "5. **Integration**: Pytest integrates well with other tools and frameworks, making it suitable for various testing workflows. It can be seamlessly integrated with continuous integration (CI) systems and other testing tools.\n",
    "\n",
    "Overall, Pytest offers a flexible and powerful testing framework that simplifies the process of writing and running tests, leading to more robust and maintainable codebases.\n"
   ]
  },
  {
   "cell_type": "code",
   "execution_count": 6,
   "metadata": {},
   "outputs": [
    {
     "name": "stdout",
     "output_type": "stream",
     "text": [
      "\u001b[1m============================= test session starts =============================\u001b[0m\n",
      "platform win32 -- Python 3.11.5, pytest-8.1.1, pluggy-1.5.0\n",
      "rootdir: d:\\CMU_Sem_2\\Creating Scientific Research Software\\PubChem V2\n",
      "plugins: anyio-4.1.0\n",
      "collected 4 items\n",
      "\n",
      "tests_pytest\\test_compound_search.py \u001b[32m.\u001b[0m\u001b[32m.\u001b[0m\u001b[32m.\u001b[0m\u001b[32m.\u001b[0m\u001b[32m                                [100%]\u001b[0m\n",
      "\n",
      "\u001b[32m============================== \u001b[32m\u001b[1m4 passed\u001b[0m\u001b[32m in 5.39s\u001b[0m\u001b[32m ==============================\u001b[0m\n"
     ]
    }
   ],
   "source": [
    "!python -m pytest tests_pytest/"
   ]
  },
  {
   "cell_type": "markdown",
   "metadata": {},
   "source": [
    "## Manual testing"
   ]
  },
  {
   "cell_type": "markdown",
   "metadata": {},
   "source": [
    "Testing the working functionalities of the package."
   ]
  },
  {
   "cell_type": "code",
   "execution_count": 11,
   "metadata": {},
   "outputs": [
    {
     "name": "stdout",
     "output_type": "stream",
     "text": [
      "Compounds: ['caffeine', 'L-cysteine', 'beta-carotene', 'Chlorine', 'CHOLINE CHLORIDE', 'S-Methyl-L-cysteine']\n"
     ]
    }
   ],
   "source": [
    "from pubchem_toolkit.compound_search import autocomplete_search\n",
    "\n",
    "# Perform auto-complete search for compounds with the query \"aspirin\"\n",
    "compounds = autocomplete_search(\"cafoeine\", dictionary=\"compound\", limit=6)\n",
    "print(\"Compounds:\", compounds)"
   ]
  },
  {
   "cell_type": "code",
   "execution_count": 12,
   "metadata": {},
   "outputs": [
    {
     "name": "stdout",
     "output_type": "stream",
     "text": [
      "The Molecular Weight of the compound 'cafoeine' is 194.19\n"
     ]
    }
   ],
   "source": [
    "from pubchem_toolkit.compound_search import autocomplete_search\n",
    "from pubchem_toolkit.compound_search import get_compound_properties_with_autocomplete\n",
    "\n",
    "\n",
    "compound_name = \"cafoeine\"\n",
    "property_name = \"Molecular Weight\"\n",
    "property_value = get_compound_properties_with_autocomplete(compound_name, \"name\", property_name)\n",
    "\n",
    "if property_value is not None:\n",
    "    print(f\"The {property_name} of the compound '{compound_name}' is {property_value}\")\n",
    "else:\n",
    "    print(f\"The property {property_name} for the compound '{compound_name}' was not found.\")"
   ]
  },
  {
   "cell_type": "code",
   "execution_count": 14,
   "metadata": {},
   "outputs": [
    {
     "name": "stdout",
     "output_type": "stream",
     "text": [
      "Compound Properties:\n",
      "Compound: 1\n",
      "Compound Complexity: 293\n",
      "Count: 0\n",
      "Fingerprint: None\n",
      "IUPAC Name: caffeine\n",
      "InChI: InChI=1S/C8H10N4O2/c1-10-4-9-6-5(10)7(13)12(3)8(14)11(6)2/h4H,1-3H3\n",
      "InChIKey: RYYVLZVUVIJVGH-UHFFFAOYSA-N\n",
      "Log P: -0.1\n",
      "Mass: 194.08037557\n",
      "Molecular Formula: C8H10N4O2\n",
      "Molecular Weight: 194.19\n",
      "SMILES: CN1C=NC2=C1C(=O)N(C(=O)N2C)C\n",
      "Topological: 58.4\n",
      "Weight: 194.08037557\n"
     ]
    }
   ],
   "source": [
    "from pubchem_toolkit.compound_search import get_compound_properties_with_autocomplete\n",
    "\n",
    "compound_name = \"cafoeine\"\n",
    "properties = get_compound_properties_with_autocomplete(compound_name)\n",
    "print(\"Compound Properties:\")\n",
    "for key, value in properties.items():\n",
    "    print(f\"{key}: {value}\")"
   ]
  },
  {
   "cell_type": "code",
   "execution_count": 33,
   "metadata": {},
   "outputs": [
    {
     "name": "stdout",
     "output_type": "stream",
     "text": [
      "Compounds: ['Aspidinin', 'aspirin', 'NO-aspirin', 'Aspirin sodium', 'Aspirin DL-lysine', 'Aspirin calcium']\n",
      "Genes: ['Egfr', 'egfra', 'egfrb', 'Egfros', 'Egfrap']\n",
      "Assays: ['Chain A, RNA-directed RNA polymerase (NS5B) (P68) - Protein Target', 'Inhibition of HIV2 reverse transcriptase p68/p54 expressed in Escherichia coli - Assay Name', 'Inhibition of HIV2 reverse transcriptase p68/p54 expressed in Escherichia coli at 495 uM - Assay Name', 'Binding affinity to wild-type human partial length PRKCH (S324 to P683 residues) expressed in Escherichia coli BL21 at 1 uM by Kinomescan method relative to control - Assay Name', 'Inhibition of wild type human partial length PRKCH (S324 to P683 residues) expressed in bacterial expression system at 1 uM by Kinomescan method relative to control - Assay Name', 'Inhibition of wild-type human partial length PRKCH (S324 to P683 residues) expressed in bacterial expression system at 1 uM by Kinomescan method relative to control - Assay Name', 'Inhibition of wild-type human partial length PRKCH (S324 to P683 residues) expressed in bacterial expression system at 10 uM by Kinomescan method relative to control - Assay Name', 'Inhibition of wild-type human partial length PKCH (S324 to P683 residues) expressed in bacterial expression system assessed as residual activity at 50 nM by Kinomescan method relative to control - Assay Name']\n",
      "Taxa: ['mousetail', 'mousebirds', 'mouse tick', 'mouse cone', 'mouse moth']\n"
     ]
    }
   ],
   "source": [
    "from pubchem_toolkit.auto_complete import autocomplete_search\n",
    "\n",
    "# Perform auto-complete search for compounds with the query \"aspirin\"\n",
    "compounds = autocomplete_search(\"aspirriiinnin\", dictionary=\"compound\", limit=6)\n",
    "print(\"Compounds:\", compounds)\n",
    "\n",
    "# Perform auto-complete search for genes with the query \"egfr\"\n",
    "genes = autocomplete_search(\"egfr\", dictionary=\"gene\", limit=5)\n",
    "print(\"Genes:\", genes)\n",
    "\n",
    "# Perform auto-complete search for assays with the query \"p68\"\n",
    "assays = autocomplete_search(\"p68\", dictionary=\"assay\", limit=8)\n",
    "print(\"Assays:\", assays)\n",
    "\n",
    "# Perform auto-complete search for taxa with the query \"mouse\"\n",
    "taxa = autocomplete_search(\"mouse\", dictionary=\"taxonomy\", limit=5)\n",
    "print(\"Taxa:\", taxa)"
   ]
  },
  {
   "cell_type": "markdown",
   "metadata": {},
   "source": [
    "## Conclusion\n",
    "\n",
    "The PubChem Toolkit project aims to provide a comprehensive Python package that facilitates easy access to chemical compound data from the PubChem database. By leveraging the functionalities offered by this toolkit, researchers, students, and professionals in chemistry and related fields can streamline their workflows, enhance their analysis capabilities, and accelerate their research endeavors. With a user-friendly interface, robust testing, and adherence to best coding practices, the PubChem Toolkit stands as a valuable resource for the scientific community, empowering users to explore, analyze, and extract insights from chemical data with ease and efficiency.\n"
   ]
  },
  {
   "cell_type": "markdown",
   "metadata": {},
   "source": []
  }
 ],
 "metadata": {
  "kernelspec": {
   "display_name": "Python 3",
   "language": "python",
   "name": "python3"
  },
  "language_info": {
   "codemirror_mode": {
    "name": "ipython",
    "version": 3
   },
   "file_extension": ".py",
   "mimetype": "text/x-python",
   "name": "python",
   "nbconvert_exporter": "python",
   "pygments_lexer": "ipython3",
   "version": "3.11.5"
  }
 },
 "nbformat": 4,
 "nbformat_minor": 2
}
